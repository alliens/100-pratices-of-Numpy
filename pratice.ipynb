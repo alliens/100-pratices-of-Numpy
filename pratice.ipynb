{
 "cells": [
  {
   "cell_type": "code",
   "execution_count": 1,
   "metadata": {},
   "outputs": [],
   "source": [
    "import numpy as np"
   ]
  },
  {
   "cell_type": "code",
   "execution_count": 13,
   "metadata": {},
   "outputs": [
    {
     "output_type": "stream",
     "name": "stdout",
     "text": "1.18.1\nblas_mkl_info:\n    libraries = ['mkl_rt', 'pthread']\n    library_dirs = ['/Users/alien/anaconda3/envs/tensorflow/lib']\n    define_macros = [('SCIPY_MKL_H', None), ('HAVE_CBLAS', None)]\n    include_dirs = ['/Users/alien/anaconda3/envs/tensorflow/include']\nblas_opt_info:\n    libraries = ['mkl_rt', 'pthread']\n    library_dirs = ['/Users/alien/anaconda3/envs/tensorflow/lib']\n    define_macros = [('SCIPY_MKL_H', None), ('HAVE_CBLAS', None)]\n    include_dirs = ['/Users/alien/anaconda3/envs/tensorflow/include']\nlapack_mkl_info:\n    libraries = ['mkl_rt', 'pthread']\n    library_dirs = ['/Users/alien/anaconda3/envs/tensorflow/lib']\n    define_macros = [('SCIPY_MKL_H', None), ('HAVE_CBLAS', None)]\n    include_dirs = ['/Users/alien/anaconda3/envs/tensorflow/include']\nlapack_opt_info:\n    libraries = ['mkl_rt', 'pthread']\n    library_dirs = ['/Users/alien/anaconda3/envs/tensorflow/lib']\n    define_macros = [('SCIPY_MKL_H', None), ('HAVE_CBLAS', None)]\n    include_dirs = ['/Users/alien/anaconda3/envs/tensorflow/include']\n"
    }
   ],
   "source": [
    "#1、打印numpy的版本和配置说明\n",
    "print(np.__version__)\n",
    "np.show_config()"
   ]
  },
  {
   "cell_type": "code",
   "execution_count": 15,
   "metadata": {},
   "outputs": [
    {
     "output_type": "stream",
     "name": "stdout",
     "text": "[0. 0. 0. 0. 0. 0. 0. 0. 0. 0.]\n"
    }
   ],
   "source": [
    "#2、创建一个长度为10的空向量\n",
    "Z=np.zeros(10)\n",
    "print(Z)"
   ]
  },
  {
   "cell_type": "code",
   "execution_count": 17,
   "metadata": {},
   "outputs": [
    {
     "output_type": "stream",
     "name": "stdout",
     "text": "800 bytes\n"
    }
   ],
   "source": [
    "#3、找到一个数组的内存大小\n",
    "Z=np.zeros((10,10))\n",
    "print(\"{} bytes\".format(Z.size*Z.itemsize))"
   ]
  },
  {
   "cell_type": "code",
   "execution_count": 19,
   "metadata": {},
   "outputs": [
    {
     "output_type": "stream",
     "name": "stdout",
     "text": "add(x1, x2, /, out=None, *, where=True, casting='same_kind', order='K', dtype=None, subok=True[, signature, extobj])\n\nAdd arguments element-wise.\n\nParameters\n----------\nx1, x2 : array_like\n    The arrays to be added. If ``x1.shape != x2.shape``, they must be broadcastable to a common shape (which becomes the shape of the output).\nout : ndarray, None, or tuple of ndarray and None, optional\n    A location into which the result is stored. If provided, it must have\n    a shape that the inputs broadcast to. If not provided or None,\n    a freshly-allocated array is returned. A tuple (possible only as a\n    keyword argument) must have length equal to the number of outputs.\nwhere : array_like, optional\n    This condition is broadcast over the input. At locations where the\n    condition is True, the `out` array will be set to the ufunc result.\n    Elsewhere, the `out` array will retain its original value.\n    Note that if an uninitialized `out` array is created via the default\n    ``out=None``, locations within it where the condition is False will\n    remain uninitialized.\n**kwargs\n    For other keyword-only arguments, see the\n    :ref:`ufunc docs <ufuncs.kwargs>`.\n\nReturns\n-------\nadd : ndarray or scalar\n    The sum of `x1` and `x2`, element-wise.\n    This is a scalar if both `x1` and `x2` are scalars.\n\nNotes\n-----\nEquivalent to `x1` + `x2` in terms of array broadcasting.\n\nExamples\n--------\n>>> np.add(1.0, 4.0)\n5.0\n>>> x1 = np.arange(9.0).reshape((3, 3))\n>>> x2 = np.arange(3.0)\n>>> np.add(x1, x2)\narray([[  0.,   2.,   4.],\n       [  3.,   5.,   7.],\n       [  6.,   8.,  10.]])\n"
    }
   ],
   "source": [
    "#4、得到numpy中add函数的说明文档\n",
    "np.info(np.add)"
   ]
  },
  {
   "cell_type": "code",
   "execution_count": 21,
   "metadata": {},
   "outputs": [
    {
     "output_type": "stream",
     "name": "stdout",
     "text": "z:[0. 0. 0. 0. 1. 0. 0. 0. 0. 0.]\n"
    }
   ],
   "source": [
    "#5、创建一个长度为10但仅有第5个值为1的空向量\n",
    "z=np.zeros(10)\n",
    "z[4]=1\n",
    "print(\"z:{}\".format(z))"
   ]
  },
  {
   "cell_type": "code",
   "execution_count": 23,
   "metadata": {},
   "outputs": [
    {
     "output_type": "stream",
     "name": "stdout",
     "text": "[10 11 12 13 14 15 16 17 18 19 20 21 22 23 24 25 26 27 28 29 30 31 32 33\n 34 35 36 37 38 39 40 41 42 43 44 45 46 47 48 49]\n"
    }
   ],
   "source": [
    "#6、创建一个值域从10-49的向量\n",
    "z=np.arange(10,50)\n",
    "print(\"{}\".format(z))"
   ]
  },
  {
   "cell_type": "code",
   "execution_count": 25,
   "metadata": {},
   "outputs": [
    {
     "output_type": "stream",
     "name": "stdout",
     "text": "反转z:[49 48 47 46 45 44 43 42 41 40 39 38 37 36 35 34 33 32 31 30 29 28 27 26\n 25 24 23 22 21 20 19 18 17 16 15 14 13 12 11 10  9  8  7  6  5  4  3  2\n  1  0]\n"
    }
   ],
   "source": [
    "#7、反转一个向量\n",
    "z=np.arange(50)\n",
    "z=z[::-1]\n",
    "print(\"反转z:{}\".format(z))"
   ]
  },
  {
   "cell_type": "code",
   "execution_count": 27,
   "metadata": {},
   "outputs": [
    {
     "output_type": "stream",
     "name": "stdout",
     "text": "[[0 1 2]\n [3 4 5]\n [6 7 8]]\n"
    }
   ],
   "source": [
    "#8、创建一个3*3并且值从0-8的矩阵\n",
    "z=np.arange(9).reshape(3,3)\n",
    "print(\"{}\".format(z))"
   ]
  },
  {
   "cell_type": "code",
   "execution_count": 29,
   "metadata": {},
   "outputs": [
    {
     "output_type": "stream",
     "name": "stdout",
     "text": "[0 1 4]\n"
    }
   ],
   "source": [
    "#9、找到数组[1，2，0，0，4，0]中非0元素的位置索引\n",
    "nz=np.nonzero([1,2,0,0,4,0])\n",
    "print(\"{}\".format(nz[0]))"
   ]
  },
  {
   "cell_type": "code",
   "execution_count": 31,
   "metadata": {},
   "outputs": [
    {
     "output_type": "stream",
     "name": "stdout",
     "text": "[[1. 0. 0.]\n [0. 1. 0.]\n [0. 0. 1.]]\n"
    }
   ],
   "source": [
    "#10、创建一个3*3的单位矩阵\n",
    "z=np.eye(3)\n",
    "print(\"{}\".format(z))"
   ]
  },
  {
   "cell_type": "code",
   "execution_count": 33,
   "metadata": {},
   "outputs": [
    {
     "output_type": "stream",
     "name": "stdout",
     "text": "[[[0.87702991 0.99573791 0.92156747]\n  [0.52610924 0.24256811 0.66571549]\n  [0.04533796 0.62065039 0.31241093]]\n\n [[0.69767191 0.51692843 0.58563121]\n  [0.11508542 0.56572248 0.11827552]\n  [0.54456039 0.41885884 0.73084297]]\n\n [[0.60944161 0.20896095 0.87842208]\n  [0.29530059 0.2510706  0.6075374 ]\n  [0.14936496 0.39567899 0.45004554]]]\n"
    }
   ],
   "source": [
    "#11、创建一个3*3*3的随机数组\n",
    "z=np.random.random((3,3,3))\n",
    "print(\"{}\".format(z))"
   ]
  },
  {
   "cell_type": "code",
   "execution_count": 35,
   "metadata": {},
   "outputs": [
    {
     "output_type": "stream",
     "name": "stdout",
     "text": "Max:0.9831156744631805 \n Min:0.014520374828306926 \n"
    }
   ],
   "source": [
    "#12、创建一个10*10的随机数组并找到它的最大最小值\n",
    "z=np.random.random((10,10))\n",
    "zMax,zMin=z.max(),z.min()\n",
    "print(\" Max:{} \\n Min:{} \".format(zMax,zMin))"
   ]
  },
  {
   "cell_type": "code",
   "execution_count": 37,
   "metadata": {},
   "outputs": [
    {
     "output_type": "stream",
     "name": "stdout",
     "text": "14.5\n"
    }
   ],
   "source": [
    "#13、创建一个长度为30的向量并求它的平均值\n",
    "z=np.arange(30)\n",
    "m=z.mean()\n",
    "print(\"{}\".format(m))"
   ]
  },
  {
   "cell_type": "code",
   "execution_count": 39,
   "metadata": {},
   "outputs": [
    {
     "output_type": "stream",
     "name": "stdout",
     "text": "[[1. 1. 1. 1. 1. 1. 1. 1. 1. 1.]\n [1. 0. 0. 0. 0. 0. 0. 0. 0. 1.]\n [1. 0. 0. 0. 0. 0. 0. 0. 0. 1.]\n [1. 0. 0. 0. 0. 0. 0. 0. 0. 1.]\n [1. 0. 0. 0. 0. 0. 0. 0. 0. 1.]\n [1. 0. 0. 0. 0. 0. 0. 0. 0. 1.]\n [1. 0. 0. 0. 0. 0. 0. 0. 0. 1.]\n [1. 0. 0. 0. 0. 0. 0. 0. 0. 1.]\n [1. 0. 0. 0. 0. 0. 0. 0. 0. 1.]\n [1. 1. 1. 1. 1. 1. 1. 1. 1. 1.]]\n"
    }
   ],
   "source": [
    "#14、创建一个二维数组，其边界值为1，其余为0\n",
    "z=np.ones((10,10))\n",
    "z[1:-1,1:-1]=0\n",
    "print(\"{}\".format(z))"
   ]
  },
  {
   "cell_type": "code",
   "execution_count": 41,
   "metadata": {},
   "outputs": [
    {
     "output_type": "stream",
     "name": "stdout",
     "text": "[[0. 0. 0. 0. 0. 0. 0.]\n [0. 1. 1. 1. 1. 1. 0.]\n [0. 1. 1. 1. 1. 1. 0.]\n [0. 1. 1. 1. 1. 1. 0.]\n [0. 1. 1. 1. 1. 1. 0.]\n [0. 1. 1. 1. 1. 1. 0.]\n [0. 0. 0. 0. 0. 0. 0.]]\n"
    }
   ],
   "source": [
    "#15、对一个数据填充边界0\n",
    "z=np.ones((5,5))\n",
    "z=np.pad(z,pad_width=1,mode='constant',constant_values=0)\n",
    "print(\"{}\".format(z))"
   ]
  },
  {
   "cell_type": "code",
   "execution_count": 43,
   "metadata": {},
   "outputs": [
    {
     "output_type": "stream",
     "name": "stdout",
     "text": "nan\nFalse\nFalse\nnan\nFalse\n"
    }
   ],
   "source": [
    "#16、以下表达式对运算结果是什么\n",
    "print(0*np.nan)\n",
    "print(np.nan==np.nan)\n",
    "print(np.inf>np.nan)\n",
    "print(np.nan-np.nan)\n",
    "print(0.3==3*0.1)"
   ]
  },
  {
   "cell_type": "code",
   "execution_count": 45,
   "metadata": {},
   "outputs": [
    {
     "output_type": "stream",
     "name": "stdout",
     "text": "[[0 0 0 0 0]\n [1 0 0 0 0]\n [0 2 0 0 0]\n [0 0 3 0 0]\n [0 0 0 4 0]]\n"
    }
   ],
   "source": [
    "#17、创建一个5*5的矩阵，并设置值1，2，3，4落在其对角线下方位置\n",
    "z=np.diag(np.arange(4)+1,k=-1)\n",
    "print(\"{}\".format(z))"
   ]
  },
  {
   "cell_type": "code",
   "execution_count": 47,
   "metadata": {},
   "outputs": [
    {
     "output_type": "stream",
     "name": "stdout",
     "text": "[[0 1 0 1 0 1 0 1]\n [1 0 1 0 1 0 1 0]\n [0 1 0 1 0 1 0 1]\n [1 0 1 0 1 0 1 0]\n [0 1 0 1 0 1 0 1]\n [1 0 1 0 1 0 1 0]\n [0 1 0 1 0 1 0 1]\n [1 0 1 0 1 0 1 0]]\n"
    }
   ],
   "source": [
    "#18、创建一个8*8矩阵，并设置成棋盘样式\n",
    "z=np.zeros((8,8),dtype=int)\n",
    "z[1::2,::2]=1\n",
    "z[::2,1::2]=1\n",
    "print(\"{}\".format(z))"
   ]
  },
  {
   "cell_type": "code",
   "execution_count": 49,
   "metadata": {},
   "outputs": [
    {
     "output_type": "stream",
     "name": "stdout",
     "text": "(1, 5, 4)\n"
    }
   ],
   "source": [
    "#19、考虑一个（6，7，8）形状的数组，其第100个元素的索引（x,y,z)是什么\n",
    "print(\"{}\".format(np.unravel_index(100,(6,7,8))))"
   ]
  },
  {
   "cell_type": "code",
   "execution_count": 50,
   "metadata": {},
   "outputs": [
    {
     "output_type": "stream",
     "name": "stdout",
     "text": "[[0 1 0 1 0 1 0 1]\n [1 0 1 0 1 0 1 0]\n [0 1 0 1 0 1 0 1]\n [1 0 1 0 1 0 1 0]\n [0 1 0 1 0 1 0 1]\n [1 0 1 0 1 0 1 0]\n [0 1 0 1 0 1 0 1]\n [1 0 1 0 1 0 1 0]]\n"
    }
   ],
   "source": [
    "#20、用title函数创建一个8*8的棋盘样式矩阵\n",
    "z=np.tile(np.array([[0,1],[1,0]]),(4,4))\n",
    "print(\"{}\".format(z))"
   ]
  },
  {
   "cell_type": "code",
   "execution_count": 51,
   "metadata": {},
   "outputs": [
    {
     "output_type": "stream",
     "name": "stdout",
     "text": "[0.90645537 0.82998102 0.19300006 0.58124195 1.         0.7691622\n 0.07960398 0.60495831 0.14636602 0.27141091 0.8561181  0.73139626\n 0.86457609 0.01872523 0.86846689 0.79067696 0.17056288 0.43042853\n 0.79744272 0.19514374 0.23532583 0.         0.60585765 0.50989599\n 0.947038  ]\n"
    }
   ],
   "source": [
    "#22、对一个5*5的随机矩阵做归一化\n",
    "z=np.random.random((5*5))\n",
    "zMax,zMin=z.max(),z.min()\n",
    "z=(z-zMin)/(zMax-zMin)\n",
    "print(\"{}\".format(z))"
   ]
  },
  {
   "cell_type": "code",
   "execution_count": 52,
   "metadata": {},
   "outputs": [
    {
     "output_type": "execute_result",
     "data": {
      "text/plain": "dtype([('r', 'u1'), ('g', 'u1'), ('b', 'u1'), ('a', 'u1')])"
     },
     "metadata": {},
     "execution_count": 52
    }
   ],
   "source": [
    "#23、创建一个将颜色描述为（RGBA）四个无符号字节的自定义dtype\n",
    "color=np.dtype([(\"r\",np.ubyte,1),\n",
    "                (\"g\",np.ubyte,1),\n",
    "                (\"b\",np.ubyte,1),\n",
    "                (\"a\",np.ubyte,1)])\n",
    "color"
   ]
  },
  {
   "cell_type": "code",
   "execution_count": 53,
   "metadata": {},
   "outputs": [
    {
     "output_type": "stream",
     "name": "stdout",
     "text": "[[ 10  13]\n [ 28  40]\n [ 46  67]\n [ 64  94]\n [ 82 121]]\n"
    }
   ],
   "source": [
    "#24、实现一个5*3的矩阵和3*2的矩阵相乘\n",
    "z1=np.arange(15).reshape((5,3))\n",
    "z2=np.arange(6).reshape((3,2))\n",
    "z=np.dot(z1,z2)\n",
    "print(\"{}\".format(z))"
   ]
  },
  {
   "cell_type": "code",
   "execution_count": 54,
   "metadata": {},
   "outputs": [
    {
     "output_type": "stream",
     "name": "stdout",
     "text": "[ 0  1  2  3 -4 -5 -6 -7 -8  9 10]\n"
    }
   ],
   "source": [
    "#25、对一个一位数组力值在3—8之间对值取反\n",
    "z=np.arange(11)\n",
    "z[(z>3)&(z<=8)]*=-1\n",
    "print(\"{}\".format(z))"
   ]
  },
  {
   "cell_type": "code",
   "execution_count": 55,
   "metadata": {},
   "outputs": [
    {
     "output_type": "stream",
     "name": "stdout",
     "text": "10\n10\n"
    }
   ],
   "source": [
    "#26、下面脚本的运行结果是什么\n",
    "print(sum(range(5),-1))\n",
    "from numpy import *\n",
    "print(sum(range(5),-1))"
   ]
  },
  {
   "cell_type": "code",
   "execution_count": 56,
   "metadata": {},
   "outputs": [
    {
     "output_type": "execute_result",
     "data": {
      "text/plain": "array([0, 1, 2, 4, 8])"
     },
     "metadata": {},
     "execution_count": 56
    }
   ],
   "source": [
    "#27、考虑整数向量z，下面的表达式正确的是？\n",
    "z=np.arange(5)\n",
    "z**z     #legal\n",
    "2<< z >>2 #legal 二进制左/右移2位\n",
    "# z<-z    #legal\n",
    "# 1j*z    #legal\n",
    "# z/1/1   #legal\n",
    "# z<z>z   #false\n"
   ]
  },
  {
   "cell_type": "code",
   "execution_count": 62,
   "metadata": {},
   "outputs": [
    {
     "output_type": "stream",
     "name": "stdout",
     "text": "nan\n0\n[-9.22337204e+18]\n"
    }
   ],
   "source": [
    "#28、下列表达式的结果分别是什么\n",
    "print(np.array(0)/np.array(0)) \n",
    "print(np.array(0)//np.array(0))\n",
    "print(np.array([np.nan]).astype(int).astype(float))"
   ]
  },
  {
   "cell_type": "code",
   "execution_count": 66,
   "metadata": {},
   "outputs": [
    {
     "output_type": "stream",
     "name": "stdout",
     "text": "[ 9. -4.  1.  2. -1.  3. -8. -1. -4. -4.]\n"
    }
   ],
   "source": [
    "#29、如何从零位对浮点数组做舍入\n",
    "z=np.random.uniform(-10,10,10)\n",
    "# print(\"{}\".format(z))\n",
    "print(np.copysign(np.ceil(np.abs(z)),z))\n",
    "# print(np.ceil(z))"
   ]
  },
  {
   "cell_type": "code",
   "execution_count": 68,
   "metadata": {},
   "outputs": [
    {
     "output_type": "stream",
     "name": "stdout",
     "text": "z1:[0 0 1 3 7 0 4 6 5 4] \n z2:[5 0 1 5 9 9 8 5 2 6]\n共同元素：[0 1 5 6]\n"
    }
   ],
   "source": [
    "#30、如何找到两个数组中对共同元素\n",
    "z1=np.random.randint(0,10,10)\n",
    "z2=np.random.randint(0,10,10)\n",
    "print(\"z1:{} \\n z2:{}\".format(z1,z2))\n",
    "print(\"共同元素：{}\".format(np.intersect1d(z1,z2)))"
   ]
  },
  {
   "cell_type": "code",
   "execution_count": 72,
   "metadata": {},
   "outputs": [
    {
     "output_type": "stream",
     "name": "stdout",
     "text": "False\nnan\n1j\n"
    }
   ],
   "source": [
    "#32、下面表达式正确吗\n",
    "print(np.sqrt(-1)==np.emath.sqrt(-1))\n",
    "print(\"{}\".format(np.sqrt(-1)))\n",
    "print(\"{}\".format(np.emath.sqrt(-1)))\n"
   ]
  },
  {
   "cell_type": "code",
   "execution_count": 90,
   "metadata": {},
   "outputs": [
    {
     "output_type": "stream",
     "name": "stdout",
     "text": "昨天：2020-05-04 \n 今天：2020-05-05 \n 明天：2020-05-06\n"
    }
   ],
   "source": [
    "#33、如何得到昨天、今天、明天的日期\n",
    "yestoday=np.datetime64(\"today\",\"D\")-np.timedelta64(1,'D')\n",
    "today=np.datetime64(\"today\",\"D\")\n",
    "tomorrow=np.datetime64(\"today\",\"D\")+np.timedelta64(1,\"D\")\n",
    "print(\"昨天：{} \\n 今天：{} \\n 明天：{}\".format(yestoday,today,tomorrow))"
   ]
  },
  {
   "cell_type": "code",
   "execution_count": 95,
   "metadata": {},
   "outputs": [
    {
     "output_type": "stream",
     "name": "stdout",
     "text": "['2016-07-01' '2016-07-02' '2016-07-03' '2016-07-04' '2016-07-05'\n '2016-07-06' '2016-07-07' '2016-07-08' '2016-07-09' '2016-07-10'\n '2016-07-11' '2016-07-12' '2016-07-13' '2016-07-14' '2016-07-15'\n '2016-07-16' '2016-07-17' '2016-07-18' '2016-07-19' '2016-07-20'\n '2016-07-21' '2016-07-22' '2016-07-23' '2016-07-24' '2016-07-25'\n '2016-07-26' '2016-07-27' '2016-07-28' '2016-07-29' '2016-07-30'\n '2016-07-31']\n"
    }
   ],
   "source": [
    "#34、如何得到所有与2016年7月对应的日期\n",
    "z=np.arange('2016-07','2016-08',dtype='datetime64[D]')\n",
    "print(\"{}\".format(z))"
   ]
  },
  {
   "cell_type": "code",
   "execution_count": 6,
   "metadata": {},
   "outputs": [
    {
     "output_type": "execute_result",
     "data": {
      "text/plain": "array([-1.5, -1.5, -1.5])"
     },
     "metadata": {},
     "execution_count": 6
    }
   ],
   "source": [
    "#35、如何直接在位计算（A+B）*(-A/2)(不建立副本)？\n",
    "A=np.ones(3)*1\n",
    "B=np.ones(3)*2\n",
    "C=np.ones(3)*3\n",
    "np.add(A,B,out=B)\n",
    "np.negative(A,out=A)\n",
    "np.divide(A,2,out=A)\n",
    "np.multiply(A,B,out=A)"
   ]
  },
  {
   "cell_type": "code",
   "execution_count": 8,
   "metadata": {},
   "outputs": [
    {
     "output_type": "stream",
     "name": "stdout",
     "text": "[9.90283596 8.18648103 5.12413074 5.72597877 4.02834261 1.93934477\n 3.3617947  9.34260099 0.88593123 2.58482687]\n[9. 8. 5. 5. 4. 1. 3. 9. 0. 2.]\n[9. 8. 5. 5. 4. 1. 3. 9. 0. 2.]\n[9 8 5 5 4 1 3 9 0 2]\n[9. 8. 5. 5. 4. 1. 3. 9. 0. 2.]\n[9. 8. 5. 5. 4. 1. 3. 9. 0. 2.]\n"
    }
   ],
   "source": [
    "#36、用五种不同的方法去提取一个随机数组的整数部分\n",
    "z=np.random.uniform(0,10,10)\n",
    "print(z)\n",
    "print(\"{}\".format(np.floor(z)))\n",
    "print(\"{}\".format(np.ceil(z)-1))\n",
    "print(\"{}\".format(z.astype(int)))\n",
    "print(\"{}\".format(np.trunc(z)))\n",
    "print(\"{}\".format(z-z%1))\n"
   ]
  },
  {
   "cell_type": "code",
   "execution_count": 12,
   "metadata": {},
   "outputs": [
    {
     "output_type": "stream",
     "name": "stdout",
     "text": "[[0. 1. 2. 3. 4.]\n [0. 1. 2. 3. 4.]\n [0. 1. 2. 3. 4.]\n [0. 1. 2. 3. 4.]\n [0. 1. 2. 3. 4.]]\n"
    }
   ],
   "source": [
    "#37、创建一个5*5的矩阵，其中每行的数值范围从0到4\n",
    "z=np.zeros((5,5))\n",
    "z+=np.arange(5)\n",
    "print(\"{}\".format(z))"
   ]
  },
  {
   "cell_type": "code",
   "execution_count": 14,
   "metadata": {},
   "outputs": [],
   "source": [
    "#38、通过考虑一个可生成\b10个整数的函数，来构建一个数组(知识点：yield,np.fromiter())\n",
    "pass"
   ]
  },
  {
   "cell_type": "code",
   "execution_count": 20,
   "metadata": {},
   "outputs": [
    {
     "output_type": "stream",
     "name": "stdout",
     "text": "[1.81818182 2.63636364 3.45454545 4.27272727 5.09090909 5.90909091\n 6.72727273 7.54545455 8.36363636 9.18181818]\n"
    }
   ],
   "source": [
    "#39、创建一个长度为10的随机向量，其值域范围从0到1，但不包括0和1\n",
    "z=np.linspace(1,10,11,endpoint=False)[1:]\n",
    "print(\"{}\".format(z))"
   ]
  },
  {
   "cell_type": "code",
   "execution_count": 22,
   "metadata": {},
   "outputs": [
    {
     "output_type": "stream",
     "name": "stdout",
     "text": "[0.30684704 0.96309331 1.3811795  3.37556001 3.73773065 4.59482655\n 7.79783001 7.86186134 7.92287837 9.32223961]\n"
    }
   ],
   "source": [
    "#40、创建一个长度为10的随机向量，并将其排序\n",
    "z=np.random.uniform(0,10,10)\n",
    "z.sort()\n",
    "print(\"{}\".format(z))"
   ]
  },
  {
   "cell_type": "code",
   "execution_count": 37,
   "metadata": {},
   "outputs": [
    {
     "output_type": "stream",
     "name": "stdout",
     "text": "[[0 1 2]\n [3 4 5]\n [6 7 8]]\n[ 9 12 15]\n"
    }
   ],
   "source": [
    "#41、对于一个数组，如何用比np.sum更快的方式对其求和\n",
    "z=np.arange(9).reshape(3,3)\n",
    "print(\"{}\".format(z))\n",
    "print(\"{}\".format(np.add.reduce(z,axis=0)))"
   ]
  },
  {
   "cell_type": "code",
   "execution_count": 38,
   "metadata": {},
   "outputs": [
    {
     "output_type": "stream",
     "name": "stdout",
     "text": "False\nFalse\n"
    }
   ],
   "source": [
    "#42、对于两个随机数组A和B，检查它们是否相等\n",
    "A=np.random.randint(0,10,10)\n",
    "B=np.random.randint(0,10,10)\n",
    "#方法一\n",
    "equal=np.allclose(A,B)\n",
    "print(\"{}\".format(equal))\n",
    "equal=np.array_equal(A,B)\n",
    "print(\"{}\".format(equal))"
   ]
  },
  {
   "cell_type": "code",
   "execution_count": 41,
   "metadata": {},
   "outputs": [],
   "source": [
    "#43、创建一个只读数组\n",
    "z=np.arange(10)\n",
    "z.flags.writeable=False\n",
    "# z[0]=1"
   ]
  },
  {
   "cell_type": "code",
   "execution_count": 42,
   "metadata": {},
   "outputs": [],
   "source": [
    "#44、将笛卡尔坐标下的一个10*2的矩阵转换为极坐标形式\n",
    "pass"
   ]
  },
  {
   "cell_type": "code",
   "execution_count": 44,
   "metadata": {},
   "outputs": [
    {
     "output_type": "stream",
     "name": "stdout",
     "text": "[4.69838751 1.70707764 3.90154214 1.51811934 4.71053803 8.33070324\n 1.68670985 5.05163176 3.89557144 0.06140486]\n[4.69838751 1.70707764 3.90154214 1.51811934 4.71053803 1.\n 1.68670985 5.05163176 3.89557144 0.06140486]\n"
    }
   ],
   "source": [
    "#45、创建一个长度为10的向量，并将向量中的最大值替换为1\n",
    "z=np.random.uniform(0,10,10)\n",
    "print(\"{}\".format(z))\n",
    "z[z.argmax()]=1\n",
    "print(\"{}\".format(z))"
   ]
  },
  {
   "cell_type": "code",
   "execution_count": null,
   "metadata": {},
   "outputs": [],
   "source": [
    "#46、"
   ]
  }
 ],
 "metadata": {
  "language_info": {
   "codemirror_mode": {
    "name": "ipython",
    "version": 3
   },
   "file_extension": ".py",
   "mimetype": "text/x-python",
   "name": "python",
   "nbconvert_exporter": "python",
   "pygments_lexer": "ipython3",
   "version": "3.6.9-final"
  },
  "orig_nbformat": 2,
  "kernelspec": {
   "name": "python3",
   "display_name": "Python 3"
  }
 },
 "nbformat": 4,
 "nbformat_minor": 2
}